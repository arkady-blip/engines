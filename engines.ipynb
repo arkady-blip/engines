{
 "cells": [
  {
   "cell_type": "code",
   "execution_count": 1,
   "metadata": {},
   "outputs": [],
   "source": [
    "import pandas as pd\n",
    "import numpy as np\n",
    "import matplotlib.pyplot as plt\n",
    "%matplotlib inline"
   ]
  },
  {
   "cell_type": "markdown",
   "metadata": {},
   "source": [
    "# Загрузка данных"
   ]
  },
  {
   "cell_type": "code",
   "execution_count": 2,
   "metadata": {},
   "outputs": [],
   "source": [
    "df = pd.read_csv('data_engines.csv')"
   ]
  },
  {
   "cell_type": "code",
   "execution_count": 3,
   "metadata": {
    "scrolled": true
   },
   "outputs": [
    {
     "data": {
      "text/html": [
       "<div>\n",
       "<style scoped>\n",
       "    .dataframe tbody tr th:only-of-type {\n",
       "        vertical-align: middle;\n",
       "    }\n",
       "\n",
       "    .dataframe tbody tr th {\n",
       "        vertical-align: top;\n",
       "    }\n",
       "\n",
       "    .dataframe thead th {\n",
       "        text-align: right;\n",
       "    }\n",
       "</style>\n",
       "<table border=\"1\" class=\"dataframe\">\n",
       "  <thead>\n",
       "    <tr style=\"text-align: right;\">\n",
       "      <th></th>\n",
       "      <th>id</th>\n",
       "      <th>cycle</th>\n",
       "      <th>p00</th>\n",
       "      <th>p01</th>\n",
       "      <th>p02</th>\n",
       "      <th>p03</th>\n",
       "      <th>p04</th>\n",
       "      <th>p05</th>\n",
       "      <th>p06</th>\n",
       "      <th>p07</th>\n",
       "      <th>...</th>\n",
       "      <th>p13</th>\n",
       "      <th>p14</th>\n",
       "      <th>p15</th>\n",
       "      <th>p16</th>\n",
       "      <th>p17</th>\n",
       "      <th>p18</th>\n",
       "      <th>p19</th>\n",
       "      <th>p20</th>\n",
       "      <th>s1</th>\n",
       "      <th>s2</th>\n",
       "    </tr>\n",
       "  </thead>\n",
       "  <tbody>\n",
       "    <tr>\n",
       "      <th>0</th>\n",
       "      <td>1</td>\n",
       "      <td>1</td>\n",
       "      <td>518.67</td>\n",
       "      <td>1.3</td>\n",
       "      <td>47.47</td>\n",
       "      <td>521.66</td>\n",
       "      <td>2388.02</td>\n",
       "      <td>8138.62</td>\n",
       "      <td>8.4195</td>\n",
       "      <td>0.03</td>\n",
       "      <td>...</td>\n",
       "      <td>23.4190</td>\n",
       "      <td>1589.70</td>\n",
       "      <td>1400.60</td>\n",
       "      <td>14.62</td>\n",
       "      <td>21.61</td>\n",
       "      <td>554.36</td>\n",
       "      <td>2388.06</td>\n",
       "      <td>9046.19</td>\n",
       "      <td>-0.0007</td>\n",
       "      <td>-0.0004</td>\n",
       "    </tr>\n",
       "    <tr>\n",
       "      <th>1</th>\n",
       "      <td>1</td>\n",
       "      <td>2</td>\n",
       "      <td>518.67</td>\n",
       "      <td>1.3</td>\n",
       "      <td>47.49</td>\n",
       "      <td>522.28</td>\n",
       "      <td>2388.07</td>\n",
       "      <td>8131.49</td>\n",
       "      <td>8.4318</td>\n",
       "      <td>0.03</td>\n",
       "      <td>...</td>\n",
       "      <td>23.4236</td>\n",
       "      <td>1591.82</td>\n",
       "      <td>1403.14</td>\n",
       "      <td>14.62</td>\n",
       "      <td>21.61</td>\n",
       "      <td>553.75</td>\n",
       "      <td>2388.04</td>\n",
       "      <td>9044.07</td>\n",
       "      <td>0.0019</td>\n",
       "      <td>-0.0003</td>\n",
       "    </tr>\n",
       "    <tr>\n",
       "      <th>2</th>\n",
       "      <td>1</td>\n",
       "      <td>3</td>\n",
       "      <td>518.67</td>\n",
       "      <td>1.3</td>\n",
       "      <td>47.27</td>\n",
       "      <td>522.42</td>\n",
       "      <td>2388.03</td>\n",
       "      <td>8133.23</td>\n",
       "      <td>8.4178</td>\n",
       "      <td>0.03</td>\n",
       "      <td>...</td>\n",
       "      <td>23.3442</td>\n",
       "      <td>1587.99</td>\n",
       "      <td>1404.20</td>\n",
       "      <td>14.62</td>\n",
       "      <td>21.61</td>\n",
       "      <td>554.26</td>\n",
       "      <td>2388.08</td>\n",
       "      <td>9052.94</td>\n",
       "      <td>-0.0043</td>\n",
       "      <td>0.0003</td>\n",
       "    </tr>\n",
       "    <tr>\n",
       "      <th>3</th>\n",
       "      <td>1</td>\n",
       "      <td>4</td>\n",
       "      <td>518.67</td>\n",
       "      <td>1.3</td>\n",
       "      <td>47.13</td>\n",
       "      <td>522.86</td>\n",
       "      <td>2388.08</td>\n",
       "      <td>8133.83</td>\n",
       "      <td>8.3682</td>\n",
       "      <td>0.03</td>\n",
       "      <td>...</td>\n",
       "      <td>23.3739</td>\n",
       "      <td>1582.79</td>\n",
       "      <td>1401.87</td>\n",
       "      <td>14.62</td>\n",
       "      <td>21.61</td>\n",
       "      <td>554.45</td>\n",
       "      <td>2388.11</td>\n",
       "      <td>9049.48</td>\n",
       "      <td>0.0007</td>\n",
       "      <td>0.0000</td>\n",
       "    </tr>\n",
       "    <tr>\n",
       "      <th>4</th>\n",
       "      <td>1</td>\n",
       "      <td>5</td>\n",
       "      <td>518.67</td>\n",
       "      <td>1.3</td>\n",
       "      <td>47.28</td>\n",
       "      <td>522.19</td>\n",
       "      <td>2388.04</td>\n",
       "      <td>8133.80</td>\n",
       "      <td>8.4294</td>\n",
       "      <td>0.03</td>\n",
       "      <td>...</td>\n",
       "      <td>23.4044</td>\n",
       "      <td>1582.85</td>\n",
       "      <td>1406.22</td>\n",
       "      <td>14.62</td>\n",
       "      <td>21.61</td>\n",
       "      <td>554.00</td>\n",
       "      <td>2388.06</td>\n",
       "      <td>9055.15</td>\n",
       "      <td>-0.0019</td>\n",
       "      <td>-0.0002</td>\n",
       "    </tr>\n",
       "  </tbody>\n",
       "</table>\n",
       "<p>5 rows × 25 columns</p>\n",
       "</div>"
      ],
      "text/plain": [
       "   id  cycle     p00  p01    p02     p03      p04      p05     p06   p07  ...  \\\n",
       "0   1      1  518.67  1.3  47.47  521.66  2388.02  8138.62  8.4195  0.03  ...   \n",
       "1   1      2  518.67  1.3  47.49  522.28  2388.07  8131.49  8.4318  0.03  ...   \n",
       "2   1      3  518.67  1.3  47.27  522.42  2388.03  8133.23  8.4178  0.03  ...   \n",
       "3   1      4  518.67  1.3  47.13  522.86  2388.08  8133.83  8.3682  0.03  ...   \n",
       "4   1      5  518.67  1.3  47.28  522.19  2388.04  8133.80  8.4294  0.03  ...   \n",
       "\n",
       "       p13      p14      p15    p16    p17     p18      p19      p20      s1  \\\n",
       "0  23.4190  1589.70  1400.60  14.62  21.61  554.36  2388.06  9046.19 -0.0007   \n",
       "1  23.4236  1591.82  1403.14  14.62  21.61  553.75  2388.04  9044.07  0.0019   \n",
       "2  23.3442  1587.99  1404.20  14.62  21.61  554.26  2388.08  9052.94 -0.0043   \n",
       "3  23.3739  1582.79  1401.87  14.62  21.61  554.45  2388.11  9049.48  0.0007   \n",
       "4  23.4044  1582.85  1406.22  14.62  21.61  554.00  2388.06  9055.15 -0.0019   \n",
       "\n",
       "       s2  \n",
       "0 -0.0004  \n",
       "1 -0.0003  \n",
       "2  0.0003  \n",
       "3  0.0000  \n",
       "4 -0.0002  \n",
       "\n",
       "[5 rows x 25 columns]"
      ]
     },
     "execution_count": 3,
     "metadata": {},
     "output_type": "execute_result"
    }
   ],
   "source": [
    "df.head(5)"
   ]
  },
  {
   "cell_type": "markdown",
   "metadata": {},
   "source": [
    "# Описательные статистики данных"
   ]
  },
  {
   "cell_type": "code",
   "execution_count": 4,
   "metadata": {},
   "outputs": [
    {
     "data": {
      "text/html": [
       "<div>\n",
       "<style scoped>\n",
       "    .dataframe tbody tr th:only-of-type {\n",
       "        vertical-align: middle;\n",
       "    }\n",
       "\n",
       "    .dataframe tbody tr th {\n",
       "        vertical-align: top;\n",
       "    }\n",
       "\n",
       "    .dataframe thead th {\n",
       "        text-align: right;\n",
       "    }\n",
       "</style>\n",
       "<table border=\"1\" class=\"dataframe\">\n",
       "  <thead>\n",
       "    <tr style=\"text-align: right;\">\n",
       "      <th></th>\n",
       "      <th>id</th>\n",
       "      <th>cycle</th>\n",
       "      <th>p00</th>\n",
       "      <th>p01</th>\n",
       "      <th>p02</th>\n",
       "      <th>p03</th>\n",
       "      <th>p04</th>\n",
       "      <th>p05</th>\n",
       "      <th>p06</th>\n",
       "      <th>p07</th>\n",
       "      <th>...</th>\n",
       "      <th>p13</th>\n",
       "      <th>p14</th>\n",
       "      <th>p15</th>\n",
       "      <th>p16</th>\n",
       "      <th>p17</th>\n",
       "      <th>p18</th>\n",
       "      <th>p19</th>\n",
       "      <th>p20</th>\n",
       "      <th>s1</th>\n",
       "      <th>s2</th>\n",
       "    </tr>\n",
       "  </thead>\n",
       "  <tbody>\n",
       "    <tr>\n",
       "      <th>count</th>\n",
       "      <td>16138.000000</td>\n",
       "      <td>16138.000000</td>\n",
       "      <td>1.613800e+04</td>\n",
       "      <td>1.613800e+04</td>\n",
       "      <td>16138.000000</td>\n",
       "      <td>16138.000000</td>\n",
       "      <td>16138.000000</td>\n",
       "      <td>16138.000000</td>\n",
       "      <td>16138.000000</td>\n",
       "      <td>1.613800e+04</td>\n",
       "      <td>...</td>\n",
       "      <td>16138.000000</td>\n",
       "      <td>16138.000000</td>\n",
       "      <td>16138.000000</td>\n",
       "      <td>1.613800e+04</td>\n",
       "      <td>16138.000000</td>\n",
       "      <td>16138.000000</td>\n",
       "      <td>16138.000000</td>\n",
       "      <td>16138.000000</td>\n",
       "      <td>16138.000000</td>\n",
       "      <td>1.613800e+04</td>\n",
       "    </tr>\n",
       "    <tr>\n",
       "      <th>mean</th>\n",
       "      <td>40.707894</td>\n",
       "      <td>105.548147</td>\n",
       "      <td>5.186700e+02</td>\n",
       "      <td>1.300000e+00</td>\n",
       "      <td>47.544263</td>\n",
       "      <td>521.405420</td>\n",
       "      <td>2388.096737</td>\n",
       "      <td>8143.933458</td>\n",
       "      <td>8.442581</td>\n",
       "      <td>3.000000e-02</td>\n",
       "      <td>...</td>\n",
       "      <td>23.288552</td>\n",
       "      <td>1590.582096</td>\n",
       "      <td>1409.033729</td>\n",
       "      <td>1.462000e+01</td>\n",
       "      <td>21.609795</td>\n",
       "      <td>553.359776</td>\n",
       "      <td>2388.097368</td>\n",
       "      <td>9065.461291</td>\n",
       "      <td>0.000010</td>\n",
       "      <td>6.196555e-08</td>\n",
       "    </tr>\n",
       "    <tr>\n",
       "      <th>std</th>\n",
       "      <td>23.395354</td>\n",
       "      <td>65.915295</td>\n",
       "      <td>6.275708e-11</td>\n",
       "      <td>3.932532e-13</td>\n",
       "      <td>0.267422</td>\n",
       "      <td>0.738252</td>\n",
       "      <td>0.072604</td>\n",
       "      <td>19.731349</td>\n",
       "      <td>0.037520</td>\n",
       "      <td>1.230304e-14</td>\n",
       "      <td>...</td>\n",
       "      <td>0.108606</td>\n",
       "      <td>6.129960</td>\n",
       "      <td>8.977073</td>\n",
       "      <td>3.044770e-12</td>\n",
       "      <td>0.001417</td>\n",
       "      <td>0.887947</td>\n",
       "      <td>0.071608</td>\n",
       "      <td>22.781362</td>\n",
       "      <td>0.002188</td>\n",
       "      <td>2.939096e-04</td>\n",
       "    </tr>\n",
       "    <tr>\n",
       "      <th>min</th>\n",
       "      <td>1.000000</td>\n",
       "      <td>1.000000</td>\n",
       "      <td>5.186700e+02</td>\n",
       "      <td>1.300000e+00</td>\n",
       "      <td>46.860000</td>\n",
       "      <td>518.690000</td>\n",
       "      <td>2387.880000</td>\n",
       "      <td>8099.940000</td>\n",
       "      <td>8.324900</td>\n",
       "      <td>3.000000e-02</td>\n",
       "      <td>...</td>\n",
       "      <td>22.907100</td>\n",
       "      <td>1571.040000</td>\n",
       "      <td>1382.250000</td>\n",
       "      <td>1.462000e+01</td>\n",
       "      <td>21.600000</td>\n",
       "      <td>549.850000</td>\n",
       "      <td>2387.900000</td>\n",
       "      <td>9021.730000</td>\n",
       "      <td>-0.008600</td>\n",
       "      <td>-6.000000e-04</td>\n",
       "    </tr>\n",
       "    <tr>\n",
       "      <th>25%</th>\n",
       "      <td>20.000000</td>\n",
       "      <td>51.000000</td>\n",
       "      <td>5.186700e+02</td>\n",
       "      <td>1.300000e+00</td>\n",
       "      <td>47.350000</td>\n",
       "      <td>520.940000</td>\n",
       "      <td>2388.040000</td>\n",
       "      <td>8132.830000</td>\n",
       "      <td>8.415300</td>\n",
       "      <td>3.000000e-02</td>\n",
       "      <td>...</td>\n",
       "      <td>23.220600</td>\n",
       "      <td>1586.330000</td>\n",
       "      <td>1402.500000</td>\n",
       "      <td>1.462000e+01</td>\n",
       "      <td>21.610000</td>\n",
       "      <td>552.800000</td>\n",
       "      <td>2388.050000</td>\n",
       "      <td>9052.820000</td>\n",
       "      <td>-0.001400</td>\n",
       "      <td>-3.000000e-04</td>\n",
       "    </tr>\n",
       "    <tr>\n",
       "      <th>50%</th>\n",
       "      <td>42.000000</td>\n",
       "      <td>101.000000</td>\n",
       "      <td>5.186700e+02</td>\n",
       "      <td>1.300000e+00</td>\n",
       "      <td>47.520000</td>\n",
       "      <td>521.460000</td>\n",
       "      <td>2388.090000</td>\n",
       "      <td>8140.750000</td>\n",
       "      <td>8.439800</td>\n",
       "      <td>3.000000e-02</td>\n",
       "      <td>...</td>\n",
       "      <td>23.296300</td>\n",
       "      <td>1590.190000</td>\n",
       "      <td>1408.220000</td>\n",
       "      <td>1.462000e+01</td>\n",
       "      <td>21.610000</td>\n",
       "      <td>553.430000</td>\n",
       "      <td>2388.090000</td>\n",
       "      <td>9060.750000</td>\n",
       "      <td>0.000000</td>\n",
       "      <td>0.000000e+00</td>\n",
       "    </tr>\n",
       "    <tr>\n",
       "      <th>75%</th>\n",
       "      <td>61.000000</td>\n",
       "      <td>153.000000</td>\n",
       "      <td>5.186700e+02</td>\n",
       "      <td>1.300000e+00</td>\n",
       "      <td>47.710000</td>\n",
       "      <td>521.940000</td>\n",
       "      <td>2388.140000</td>\n",
       "      <td>8148.817500</td>\n",
       "      <td>8.466000</td>\n",
       "      <td>3.000000e-02</td>\n",
       "      <td>...</td>\n",
       "      <td>23.365600</td>\n",
       "      <td>1594.450000</td>\n",
       "      <td>1414.650000</td>\n",
       "      <td>1.462000e+01</td>\n",
       "      <td>21.610000</td>\n",
       "      <td>554.000000</td>\n",
       "      <td>2388.140000</td>\n",
       "      <td>9069.940000</td>\n",
       "      <td>0.001500</td>\n",
       "      <td>3.000000e-04</td>\n",
       "    </tr>\n",
       "    <tr>\n",
       "      <th>max</th>\n",
       "      <td>80.000000</td>\n",
       "      <td>362.000000</td>\n",
       "      <td>5.186700e+02</td>\n",
       "      <td>1.300000e+00</td>\n",
       "      <td>48.530000</td>\n",
       "      <td>523.380000</td>\n",
       "      <td>2388.560000</td>\n",
       "      <td>8293.720000</td>\n",
       "      <td>8.584800</td>\n",
       "      <td>3.000000e-02</td>\n",
       "      <td>...</td>\n",
       "      <td>23.612700</td>\n",
       "      <td>1614.930000</td>\n",
       "      <td>1441.490000</td>\n",
       "      <td>1.462000e+01</td>\n",
       "      <td>21.610000</td>\n",
       "      <td>556.060000</td>\n",
       "      <td>2388.560000</td>\n",
       "      <td>9244.590000</td>\n",
       "      <td>0.008700</td>\n",
       "      <td>6.000000e-04</td>\n",
       "    </tr>\n",
       "  </tbody>\n",
       "</table>\n",
       "<p>8 rows × 25 columns</p>\n",
       "</div>"
      ],
      "text/plain": [
       "                 id         cycle           p00           p01           p02  \\\n",
       "count  16138.000000  16138.000000  1.613800e+04  1.613800e+04  16138.000000   \n",
       "mean      40.707894    105.548147  5.186700e+02  1.300000e+00     47.544263   \n",
       "std       23.395354     65.915295  6.275708e-11  3.932532e-13      0.267422   \n",
       "min        1.000000      1.000000  5.186700e+02  1.300000e+00     46.860000   \n",
       "25%       20.000000     51.000000  5.186700e+02  1.300000e+00     47.350000   \n",
       "50%       42.000000    101.000000  5.186700e+02  1.300000e+00     47.520000   \n",
       "75%       61.000000    153.000000  5.186700e+02  1.300000e+00     47.710000   \n",
       "max       80.000000    362.000000  5.186700e+02  1.300000e+00     48.530000   \n",
       "\n",
       "                p03           p04           p05           p06           p07  \\\n",
       "count  16138.000000  16138.000000  16138.000000  16138.000000  1.613800e+04   \n",
       "mean     521.405420   2388.096737   8143.933458      8.442581  3.000000e-02   \n",
       "std        0.738252      0.072604     19.731349      0.037520  1.230304e-14   \n",
       "min      518.690000   2387.880000   8099.940000      8.324900  3.000000e-02   \n",
       "25%      520.940000   2388.040000   8132.830000      8.415300  3.000000e-02   \n",
       "50%      521.460000   2388.090000   8140.750000      8.439800  3.000000e-02   \n",
       "75%      521.940000   2388.140000   8148.817500      8.466000  3.000000e-02   \n",
       "max      523.380000   2388.560000   8293.720000      8.584800  3.000000e-02   \n",
       "\n",
       "       ...           p13           p14           p15           p16  \\\n",
       "count  ...  16138.000000  16138.000000  16138.000000  1.613800e+04   \n",
       "mean   ...     23.288552   1590.582096   1409.033729  1.462000e+01   \n",
       "std    ...      0.108606      6.129960      8.977073  3.044770e-12   \n",
       "min    ...     22.907100   1571.040000   1382.250000  1.462000e+01   \n",
       "25%    ...     23.220600   1586.330000   1402.500000  1.462000e+01   \n",
       "50%    ...     23.296300   1590.190000   1408.220000  1.462000e+01   \n",
       "75%    ...     23.365600   1594.450000   1414.650000  1.462000e+01   \n",
       "max    ...     23.612700   1614.930000   1441.490000  1.462000e+01   \n",
       "\n",
       "                p17           p18           p19           p20            s1  \\\n",
       "count  16138.000000  16138.000000  16138.000000  16138.000000  16138.000000   \n",
       "mean      21.609795    553.359776   2388.097368   9065.461291      0.000010   \n",
       "std        0.001417      0.887947      0.071608     22.781362      0.002188   \n",
       "min       21.600000    549.850000   2387.900000   9021.730000     -0.008600   \n",
       "25%       21.610000    552.800000   2388.050000   9052.820000     -0.001400   \n",
       "50%       21.610000    553.430000   2388.090000   9060.750000      0.000000   \n",
       "75%       21.610000    554.000000   2388.140000   9069.940000      0.001500   \n",
       "max       21.610000    556.060000   2388.560000   9244.590000      0.008700   \n",
       "\n",
       "                 s2  \n",
       "count  1.613800e+04  \n",
       "mean   6.196555e-08  \n",
       "std    2.939096e-04  \n",
       "min   -6.000000e-04  \n",
       "25%   -3.000000e-04  \n",
       "50%    0.000000e+00  \n",
       "75%    3.000000e-04  \n",
       "max    6.000000e-04  \n",
       "\n",
       "[8 rows x 25 columns]"
      ]
     },
     "execution_count": 4,
     "metadata": {},
     "output_type": "execute_result"
    }
   ],
   "source": [
    "df.describe()"
   ]
  },
  {
   "cell_type": "code",
   "execution_count": 5,
   "metadata": {},
   "outputs": [
    {
     "data": {
      "text/plain": [
       "id       0\n",
       "cycle    0\n",
       "p00      0\n",
       "p01      0\n",
       "p02      0\n",
       "p03      0\n",
       "p04      0\n",
       "p05      0\n",
       "p06      0\n",
       "p07      0\n",
       "p08      0\n",
       "p09      0\n",
       "p10      0\n",
       "p11      0\n",
       "p12      0\n",
       "p13      0\n",
       "p14      0\n",
       "p15      0\n",
       "p16      0\n",
       "p17      0\n",
       "p18      0\n",
       "p19      0\n",
       "p20      0\n",
       "s1       0\n",
       "s2       0\n",
       "dtype: int64"
      ]
     },
     "execution_count": 5,
     "metadata": {},
     "output_type": "execute_result"
    }
   ],
   "source": [
    "# Проверка наличия пропусков\n",
    "df.isnull().sum()"
   ]
  },
  {
   "cell_type": "markdown",
   "metadata": {},
   "source": [
    "# Создание колонки с целевой переменной  \n",
    "  \n",
    "  Получается, что у нас задача классификации с двумя группами: \"последний цикл перед поломкой\" и \"не последний цикл перед поломкой\""
   ]
  },
  {
   "cell_type": "code",
   "execution_count": 4,
   "metadata": {},
   "outputs": [],
   "source": [
    "df['max_cycle']=df.cycle.eq(df.groupby('id').\n",
    "                            cycle.transform('last')).astype(int)"
   ]
  },
  {
   "cell_type": "markdown",
   "metadata": {},
   "source": [
    "# Гистограммы распределений циклов мотора\n",
    "  \n",
    "  Видно что первое падение графика происходит незадолго до 150 цикла, затем гистограмма начинает резко снижаться - то есть моторы начинают отказывать чуть раньше 150 цикла"
   ]
  },
  {
   "cell_type": "code",
   "execution_count": 7,
   "metadata": {},
   "outputs": [
    {
     "data": {
      "text/plain": [
       "array([[<matplotlib.axes._subplots.AxesSubplot object at 0x0000000009785898>]],\n",
       "      dtype=object)"
      ]
     },
     "execution_count": 7,
     "metadata": {},
     "output_type": "execute_result"
    },
    {
     "data": {
      "image/png": "[encoded data removed]",
      "text/plain": [
       "<Figure size 432x288 with 1 Axes>"
      ]
     },
     "metadata": {
      "needs_background": "light"
     },
     "output_type": "display_data"
    }
   ],
   "source": [
    "df.hist(column='cycle')"
   ]
  },
  {
   "cell_type": "markdown",
   "metadata": {},
   "source": [
    "Еще лучше это можно увидеть, изобразив циклы по группам"
   ]
  },
  {
   "cell_type": "code",
   "execution_count": 8,
   "metadata": {},
   "outputs": [
    {
     "data": {
      "text/plain": [
       "max_cycle\n",
       "0    [[AxesSubplot(0.125,0.125;0.775x0.755)]]\n",
       "1    [[AxesSubplot(0.125,0.125;0.775x0.755)]]\n",
       "dtype: object"
      ]
     },
     "execution_count": 8,
     "metadata": {},
     "output_type": "execute_result"
    },
    {
     "data": {
      "image/png": "[encoded data removed]",
      "text/plain": [
       "<Figure size 432x288 with 1 Axes>"
      ]
     },
     "metadata": {
      "needs_background": "light"
     },
     "output_type": "display_data"
    },
    {
     "data": {
      "image/png": "[encoded data removed]",
      "text/plain": [
       "<Figure size 432x288 with 1 Axes>"
      ]
     },
     "metadata": {
      "needs_background": "light"
     },
     "output_type": "display_data"
    }
   ],
   "source": [
    "df.groupby('max_cycle').hist(column='cycle')"
   ]
  },
  {
   "cell_type": "markdown",
   "metadata": {},
   "source": [
    "Минимальный цикл поломки - 128. Появляется вопрос: стоит ли удалить данные ранних циклов из выборки связи с их нерелевантностью? Это зависит от следующих деталей: будет ли создаваемая модель проверять моторы на ранних циклах; случаются ли поломки моторов на ранних циклах (однако подобных моторов нет в нашей выборке). Не имея ответа на эти вопросы, предпочту оставить имеющиеся данные"
   ]
  },
  {
   "cell_type": "code",
   "execution_count": 107,
   "metadata": {},
   "outputs": [
    {
     "data": {
      "text/html": [
       "<div>\n",
       "<style scoped>\n",
       "    .dataframe tbody tr th:only-of-type {\n",
       "        vertical-align: middle;\n",
       "    }\n",
       "\n",
       "    .dataframe tbody tr th {\n",
       "        vertical-align: top;\n",
       "    }\n",
       "\n",
       "    .dataframe thead th {\n",
       "        text-align: right;\n",
       "    }\n",
       "</style>\n",
       "<table border=\"1\" class=\"dataframe\">\n",
       "  <thead>\n",
       "    <tr style=\"text-align: right;\">\n",
       "      <th></th>\n",
       "      <th>id</th>\n",
       "      <th>cycle</th>\n",
       "      <th>p02</th>\n",
       "      <th>p03</th>\n",
       "      <th>p04</th>\n",
       "      <th>p05</th>\n",
       "      <th>p06</th>\n",
       "      <th>p08</th>\n",
       "      <th>p11</th>\n",
       "      <th>p12</th>\n",
       "      <th>p13</th>\n",
       "      <th>p14</th>\n",
       "      <th>p15</th>\n",
       "      <th>p18</th>\n",
       "      <th>p19</th>\n",
       "      <th>p20</th>\n",
       "      <th>s1</th>\n",
       "      <th>s2</th>\n",
       "    </tr>\n",
       "    <tr>\n",
       "      <th>max_cycle</th>\n",
       "      <th></th>\n",
       "      <th></th>\n",
       "      <th></th>\n",
       "      <th></th>\n",
       "      <th></th>\n",
       "      <th></th>\n",
       "      <th></th>\n",
       "      <th></th>\n",
       "      <th></th>\n",
       "      <th></th>\n",
       "      <th></th>\n",
       "      <th></th>\n",
       "      <th></th>\n",
       "      <th></th>\n",
       "      <th></th>\n",
       "      <th></th>\n",
       "      <th></th>\n",
       "      <th></th>\n",
       "    </tr>\n",
       "  </thead>\n",
       "  <tbody>\n",
       "    <tr>\n",
       "      <th>0</th>\n",
       "      <td>1</td>\n",
       "      <td>1</td>\n",
       "      <td>46.86</td>\n",
       "      <td>518.69</td>\n",
       "      <td>2387.88</td>\n",
       "      <td>8099.94</td>\n",
       "      <td>8.3249</td>\n",
       "      <td>388</td>\n",
       "      <td>641.21</td>\n",
       "      <td>38.16</td>\n",
       "      <td>22.9122</td>\n",
       "      <td>1571.04</td>\n",
       "      <td>1382.25</td>\n",
       "      <td>549.85</td>\n",
       "      <td>2387.90</td>\n",
       "      <td>9021.73</td>\n",
       "      <td>-0.0086</td>\n",
       "      <td>-0.0006</td>\n",
       "    </tr>\n",
       "    <tr>\n",
       "      <th>1</th>\n",
       "      <td>1</td>\n",
       "      <td>128</td>\n",
       "      <td>47.89</td>\n",
       "      <td>518.83</td>\n",
       "      <td>2388.12</td>\n",
       "      <td>8102.82</td>\n",
       "      <td>8.4871</td>\n",
       "      <td>394</td>\n",
       "      <td>643.23</td>\n",
       "      <td>38.22</td>\n",
       "      <td>22.9071</td>\n",
       "      <td>1592.45</td>\n",
       "      <td>1421.41</td>\n",
       "      <td>550.35</td>\n",
       "      <td>2388.13</td>\n",
       "      <td>9026.08</td>\n",
       "      <td>-0.0058</td>\n",
       "      <td>-0.0005</td>\n",
       "    </tr>\n",
       "  </tbody>\n",
       "</table>\n",
       "</div>"
      ],
      "text/plain": [
       "           id  cycle    p02     p03      p04      p05     p06  p08     p11  \\\n",
       "max_cycle                                                                    \n",
       "0           1      1  46.86  518.69  2387.88  8099.94  8.3249  388  641.21   \n",
       "1           1    128  47.89  518.83  2388.12  8102.82  8.4871  394  643.23   \n",
       "\n",
       "             p12      p13      p14      p15     p18      p19      p20      s1  \\\n",
       "max_cycle                                                                       \n",
       "0          38.16  22.9122  1571.04  1382.25  549.85  2387.90  9021.73 -0.0086   \n",
       "1          38.22  22.9071  1592.45  1421.41  550.35  2388.13  9026.08 -0.0058   \n",
       "\n",
       "               s2  \n",
       "max_cycle          \n",
       "0         -0.0006  \n",
       "1         -0.0005  "
      ]
     },
     "execution_count": 107,
     "metadata": {},
     "output_type": "execute_result"
    }
   ],
   "source": [
    "df.groupby('max_cycle').min()"
   ]
  },
  {
   "cell_type": "markdown",
   "metadata": {},
   "source": [
    "# Ящики с усами для сравнения значений показаний датчиков в последний цикл по сравнению с другими\n",
    "  \n",
    "  Видно большое количество выбросов по показаниям датчиков в группе \"не последнего цикла\". Хотелось бы иметь информацию о том, что именно показывают датчики, чтобы, возможно, как-то поработать с выбросами. С другой стороны, кажется важным оставить их в таком виде и в данных, потому что основная задача модели - отличить подобные циклы моторов близкие к последнему, но таковыми не являющимися  \n",
    "  \n",
    "  Также на графиках видно, что по многим показателям две группы действительно имеют различия  \n",
    "  \n",
    "  И еще есть датчики, которые по всей выборке имеют одни и те же показания из цикла в цикл"
   ]
  },
  {
   "cell_type": "code",
   "execution_count": 9,
   "metadata": {
    "scrolled": false
   },
   "outputs": [
    {
     "name": "stderr",
     "output_type": "stream",
     "text": [
      "D:\\ProgramData\\Anaconda3\\lib\\site-packages\\matplotlib\\pyplot.py:514: RuntimeWarning: More than 20 figures have been opened. Figures created through the pyplot interface (`matplotlib.pyplot.figure`) are retained until explicitly closed and may consume too much memory. (To control this warning, see the rcParam `figure.max_open_warning`).\n",
      "  max_open_warning, RuntimeWarning)\n"
     ]
    },
    {
     "data": {
      "image/png": "[encoded data removed]",
      "text/plain": [
       "<Figure size 432x288 with 1 Axes>"
      ]
     },
     "metadata": {
      "needs_background": "light"
     },
     "output_type": "display_data"
    },
    {
     "data": {
      "image/png": "[encoded data removed]",
      "text/plain": [
       "<Figure size 432x288 with 1 Axes>"
      ]
     },
     "metadata": {
      "needs_background": "light"
     },
     "output_type": "display_data"
    },
    {
     "data": {
      "image/png": "[encoded data removed]",
      "text/plain": [
       "<Figure size 432x288 with 1 Axes>"
      ]
     },
     "metadata": {
      "needs_background": "light"
     },
     "output_type": "display_data"
    },
    {
     "data": {
      "image/png": "[encoded data removed]",
      "text/plain": [
       "<Figure size 432x288 with 1 Axes>"
      ]
     },
     "metadata": {
      "needs_background": "light"
     },
     "output_type": "display_data"
    },
    {
     "data": {
      "image/png": "[encoded data removed]",
      "text/plain": [
       "<Figure size 432x288 with 1 Axes>"
      ]
     },
     "metadata": {
      "needs_background": "light"
     },
     "output_type": "display_data"
    },
    {
     "data": {
      "image/png": "[encoded data removed]",
      "text/plain": [
       "<Figure size 432x288 with 1 Axes>"
      ]
     },
     "metadata": {
      "needs_background": "light"
     },
     "output_type": "display_data"
    },
    {
     "data": {
      "image/png": "[encoded data removed]",
      "text/plain": [
       "<Figure size 432x288 with 1 Axes>"
      ]
     },
     "metadata": {
      "needs_background": "light"
     },
     "output_type": "display_data"
    },
    {
     "data": {
      "image/png": "[encoded data removed]",
      "text/plain": [
       "<Figure size 432x288 with 1 Axes>"
      ]
     },
     "metadata": {
      "needs_background": "light"
     },
     "output_type": "display_data"
    },
    {
     "data": {
      "image/png": "[encoded data removed]",
      "text/plain": [
       "<Figure size 432x288 with 1 Axes>"
      ]
     },
     "metadata": {
      "needs_background": "light"
     },
     "output_type": "display_data"
    },
    {
     "data": {
      "image/png": "[encoded data removed]",
      "text/plain": [
       "<Figure size 432x288 with 1 Axes>"
      ]
     },
     "metadata": {
      "needs_background": "light"
     },
     "output_type": "display_data"
    },
    {
     "data": {
      "image/png": "[encoded data removed]",
      "text/plain": [
       "<Figure size 432x288 with 1 Axes>"
      ]
     },
     "metadata": {
      "needs_background": "light"
     },
     "output_type": "display_data"
    },
    {
     "data": {
      "image/png": "[encoded data removed]",
      "text/plain": [
       "<Figure size 432x288 with 1 Axes>"
      ]
     },
     "metadata": {
      "needs_background": "light"
     },
     "output_type": "display_data"
    },
    {
     "data": {
      "image/png": "[encoded data removed]",
      "text/plain": [
       "<Figure size 432x288 with 1 Axes>"
      ]
     },
     "metadata": {
      "needs_background": "light"
     },
     "output_type": "display_data"
    },
    {
     "data": {
      "image/png": "[encoded data removed]",
      "text/plain": [
       "<Figure size 432x288 with 1 Axes>"
      ]
     },
     "metadata": {
      "needs_background": "light"
     },
     "output_type": "display_data"
    },
    {
     "data": {
      "image/png": "[encoded data removed]",
      "text/plain": [
       "<Figure size 432x288 with 1 Axes>"
      ]
     },
     "metadata": {
      "needs_background": "light"
     },
     "output_type": "display_data"
    },
    {
     "data": {
      "image/png": "[encoded data removed]",
      "text/plain": [
       "<Figure size 432x288 with 1 Axes>"
      ]
     },
     "metadata": {
      "needs_background": "light"
     },
     "output_type": "display_data"
    },
    {
     "data": {
      "image/png": "[encoded data removed]",
      "text/plain": [
       "<Figure size 432x288 with 1 Axes>"
      ]
     },
     "metadata": {
      "needs_background": "light"
     },
     "output_type": "display_data"
    },
    {
     "data": {
      "image/png": "[encoded data removed]",
      "text/plain": [
       "<Figure size 432x288 with 1 Axes>"
      ]
     },
     "metadata": {
      "needs_background": "light"
     },
     "output_type": "display_data"
    },
    {
     "data": {
      "image/png": "[encoded data removed]",
      "text/plain": [
       "<Figure size 432x288 with 1 Axes>"
      ]
     },
     "metadata": {
      "needs_background": "light"
     },
     "output_type": "display_data"
    },
    {
     "data": {
      "image/png": "[encoded data removed]",
      "text/plain": [
       "<Figure size 432x288 with 1 Axes>"
      ]
     },
     "metadata": {
      "needs_background": "light"
     },
     "output_type": "display_data"
    },
    {
     "data": {
      "image/png": "[encoded data removed]",
      "text/plain": [
       "<Figure size 432x288 with 1 Axes>"
      ]
     },
     "metadata": {
      "needs_background": "light"
     },
     "output_type": "display_data"
    },
    {
     "data": {
      "image/png": "[encoded data removed]",
      "text/plain": [
       "<Figure size 432x288 with 1 Axes>"
      ]
     },
     "metadata": {
      "needs_background": "light"
     },
     "output_type": "display_data"
    },
    {
     "data": {
      "image/png": "[encoded data removed]",
      "text/plain": [
       "<Figure size 432x288 with 1 Axes>"
      ]
     },
     "metadata": {
      "needs_background": "light"
     },
     "output_type": "display_data"
    },
    {
     "data": {
      "image/png": "[encoded data removed]",
      "text/plain": [
       "<Figure size 432x288 with 1 Axes>"
      ]
     },
     "metadata": {
      "needs_background": "light"
     },
     "output_type": "display_data"
    },
    {
     "data": {
      "image/png": "[encoded data removed]",
      "text/plain": [
       "<Figure size 432x288 with 1 Axes>"
      ]
     },
     "metadata": {
      "needs_background": "light"
     },
     "output_type": "display_data"
    }
   ],
   "source": [
    "for i in range(len(df.columns)):\n",
    "    df.boxplot(column=df.columns[i], by='max_cycle')"
   ]
  },
  {
   "cell_type": "code",
   "execution_count": 5,
   "metadata": {},
   "outputs": [],
   "source": [
    "# Удаляем колонки с одинаковыми значениями\n",
    "df.drop(['p00', 'p01', 'p07', 'p09', 'p10', 'p16', 'p17'], axis=1, inplace=True)"
   ]
  },
  {
   "cell_type": "markdown",
   "metadata": {},
   "source": [
    "# Разделение выборки на тренировочную и тестовую  \n",
    "  \n",
    "  Кажется логичным сделать разделение на последнем цикле одного из моторов, чтобы данные по разным циклам одного мотора не разошлись по разным выборкам\n",
    "    \n",
    "  Решил взять 60 моторов в тренировочную выборку и оставить 20 на тестовую"
   ]
  },
  {
   "cell_type": "code",
   "execution_count": 6,
   "metadata": {},
   "outputs": [
    {
     "data": {
      "text/html": [
       "<div>\n",
       "<style scoped>\n",
       "    .dataframe tbody tr th:only-of-type {\n",
       "        vertical-align: middle;\n",
       "    }\n",
       "\n",
       "    .dataframe tbody tr th {\n",
       "        vertical-align: top;\n",
       "    }\n",
       "\n",
       "    .dataframe thead th {\n",
       "        text-align: right;\n",
       "    }\n",
       "</style>\n",
       "<table border=\"1\" class=\"dataframe\">\n",
       "  <thead>\n",
       "    <tr style=\"text-align: right;\">\n",
       "      <th></th>\n",
       "      <th>id</th>\n",
       "      <th>cycle</th>\n",
       "      <th>p02</th>\n",
       "      <th>p03</th>\n",
       "      <th>p04</th>\n",
       "      <th>p05</th>\n",
       "      <th>p06</th>\n",
       "      <th>p08</th>\n",
       "      <th>p11</th>\n",
       "      <th>p12</th>\n",
       "      <th>p13</th>\n",
       "      <th>p14</th>\n",
       "      <th>p15</th>\n",
       "      <th>p18</th>\n",
       "      <th>p19</th>\n",
       "      <th>p20</th>\n",
       "      <th>s1</th>\n",
       "      <th>s2</th>\n",
       "      <th>max_cycle</th>\n",
       "    </tr>\n",
       "  </thead>\n",
       "  <tbody>\n",
       "    <tr>\n",
       "      <th>11941</th>\n",
       "      <td>60</td>\n",
       "      <td>172</td>\n",
       "      <td>48.04</td>\n",
       "      <td>520.44</td>\n",
       "      <td>2388.22</td>\n",
       "      <td>8205.47</td>\n",
       "      <td>8.5322</td>\n",
       "      <td>396</td>\n",
       "      <td>643.62</td>\n",
       "      <td>38.23</td>\n",
       "      <td>22.954</td>\n",
       "      <td>1605.19</td>\n",
       "      <td>1434.09</td>\n",
       "      <td>551.21</td>\n",
       "      <td>2388.18</td>\n",
       "      <td>9141.47</td>\n",
       "      <td>-0.0005</td>\n",
       "      <td>0.0004</td>\n",
       "      <td>1</td>\n",
       "    </tr>\n",
       "  </tbody>\n",
       "</table>\n",
       "</div>"
      ],
      "text/plain": [
       "       id  cycle    p02     p03      p04      p05     p06  p08     p11    p12  \\\n",
       "11941  60    172  48.04  520.44  2388.22  8205.47  8.5322  396  643.62  38.23   \n",
       "\n",
       "          p13      p14      p15     p18      p19      p20      s1      s2  \\\n",
       "11941  22.954  1605.19  1434.09  551.21  2388.18  9141.47 -0.0005  0.0004   \n",
       "\n",
       "       max_cycle  \n",
       "11941          1  "
      ]
     },
     "execution_count": 6,
     "metadata": {},
     "output_type": "execute_result"
    }
   ],
   "source": [
    "# Узнаю индекс последнего цикла 60 мотора\n",
    "filt = df['max_cycle'] == 1\n",
    "filt1 = df['id'] == 60\n",
    "df.loc[filt & filt1]"
   ]
  },
  {
   "cell_type": "code",
   "execution_count": 26,
   "metadata": {},
   "outputs": [],
   "source": [
    "# Разделяю на train, test\n",
    "train = df.loc[:11941]\n",
    "test = df.loc[11942:]"
   ]
  },
  {
   "cell_type": "code",
   "execution_count": 27,
   "metadata": {},
   "outputs": [],
   "source": [
    "# Отделяю целевую переменную\n",
    "X_train = train.drop(['id', 'max_cycle'], axis=1)\n",
    "X_test = test.drop(['id', 'max_cycle'], axis=1)\n",
    "y_train = train['max_cycle']\n",
    "y_test = test['max_cycle']"
   ]
  },
  {
   "cell_type": "markdown",
   "metadata": {},
   "source": [
    "# Работа с нерановмерностью классов в выборке\n",
    "\n",
    "Выборки очень неравномерны. Решил провести оверсемплинг меньшей группы и андерсемплинг большей, чтобы свести отношение к 2:1"
   ]
  },
  {
   "cell_type": "code",
   "execution_count": 9,
   "metadata": {},
   "outputs": [],
   "source": [
    "from imblearn.over_sampling import RandomOverSampler\n",
    "from imblearn.under_sampling import RandomUnderSampler\n",
    "import collections"
   ]
  },
  {
   "cell_type": "code",
   "execution_count": 18,
   "metadata": {},
   "outputs": [
    {
     "name": "stdout",
     "output_type": "stream",
     "text": [
      "Counter({0: 11882, 1: 60})\n"
     ]
    }
   ],
   "source": [
    "print(collections.Counter(y_train))"
   ]
  },
  {
   "cell_type": "code",
   "execution_count": 28,
   "metadata": {},
   "outputs": [],
   "source": [
    "over = RandomOverSampler(sampling_strategy=0.1)\n",
    "X_train, y_train = over.fit_resample(X_train, y_train)\n",
    "under = RandomUnderSampler(sampling_strategy=0.5)\n",
    "X_train, y_train = under.fit_resample(X_train, y_train)"
   ]
  },
  {
   "cell_type": "code",
   "execution_count": 20,
   "metadata": {},
   "outputs": [
    {
     "name": "stdout",
     "output_type": "stream",
     "text": [
      "Counter({0: 2376, 1: 1188})\n"
     ]
    }
   ],
   "source": [
    "print(collections.Counter(y_train))"
   ]
  },
  {
   "cell_type": "markdown",
   "metadata": {},
   "source": [
    "Все переменные количественные, по графикам видно различие в показателях датчиков в группах, кажется, что логистическая регрессия должна хорошо справиться с задачей"
   ]
  },
  {
   "cell_type": "markdown",
   "metadata": {},
   "source": [
    "# Стандартизация признаков"
   ]
  },
  {
   "cell_type": "code",
   "execution_count": 21,
   "metadata": {},
   "outputs": [],
   "source": [
    "from sklearn.linear_model import LogisticRegression\n",
    "from sklearn.preprocessing import StandardScaler\n",
    "from sklearn.metrics import recall_score\n",
    "from sklearn.metrics import precision_score\n",
    "from sklearn.metrics import confusion_matrix"
   ]
  },
  {
   "cell_type": "code",
   "execution_count": 29,
   "metadata": {},
   "outputs": [],
   "source": [
    "# Стандартизация признаков\n",
    "scale_features_std = StandardScaler() \n",
    "X_train_regr = scale_features_std.fit_transform(X_train) \n",
    "X_test_regr = scale_features_std.transform(X_test) "
   ]
  },
  {
   "cell_type": "markdown",
   "metadata": {},
   "source": [
    "# Обучение модели  \n",
    "  \n",
    "  Кажется, что не нужно удалять переменные из модели, поэтому оставил L2 регуляризатор, саму регуляризацию немного смягчил, основной метрикой модели считаю Recall, так как самое важное не упустить ни один из последних циклов, потому что ремонт после поломки, скорее всего, будет обходиться дороже ТО рабочего агрегата. Но это, конечно, зависит от конкретной задачи и конкретных условий"
   ]
  },
  {
   "cell_type": "code",
   "execution_count": 30,
   "metadata": {},
   "outputs": [
    {
     "data": {
      "text/plain": [
       "1.0"
      ]
     },
     "execution_count": 30,
     "metadata": {},
     "output_type": "execute_result"
    }
   ],
   "source": [
    "# Модель находит все циклы перед поломкой на тестовой выборке\n",
    "regr = LogisticRegression(C=1.5)\n",
    "regr.fit(X_train_regr, y_train)\n",
    "y_preds = regr.predict(X_test_regr)\n",
    "recall_score(y_test, y_preds)"
   ]
  },
  {
   "cell_type": "markdown",
   "metadata": {},
   "source": [
    "Если бы Recall был ниже единицы, я бы попробовал более строгую оценку вероятности, чем 0.5, для определения класса 1 "
   ]
  },
  {
   "cell_type": "code",
   "execution_count": 31,
   "metadata": {},
   "outputs": [
    {
     "data": {
      "text/plain": [
       "0.1834862385321101"
      ]
     },
     "execution_count": 31,
     "metadata": {},
     "output_type": "execute_result"
    }
   ],
   "source": [
    "# А вот ее Precision не очень высокий\n",
    "precision_score(y_test, y_preds)"
   ]
  },
  {
   "cell_type": "code",
   "execution_count": 32,
   "metadata": {},
   "outputs": [],
   "source": [
    "conf_matrix = confusion_matrix(y_test, y_preds)"
   ]
  },
  {
   "cell_type": "code",
   "execution_count": 33,
   "metadata": {},
   "outputs": [
    {
     "data": {
      "text/plain": [
       "array([[4087,   89],\n",
       "       [   0,   20]], dtype=int64)"
      ]
     },
     "execution_count": 33,
     "metadata": {},
     "output_type": "execute_result"
    }
   ],
   "source": [
    "# У модели происходит 89 ложных срабатываний на выборку из 4196 циклов\n",
    "conf_matrix"
   ]
  },
  {
   "cell_type": "markdown",
   "metadata": {},
   "source": [
    "Ложные срабатывания происходят незадолго до последнего цикла"
   ]
  },
  {
   "cell_type": "markdown",
   "metadata": {},
   "source": [
    "# Основной вариант применения модели  \n",
    "  \n",
    "  Подача ей на вход показателей датчиков мотора в том же порядке (за исключением удаленных колонок) и со стандартизацией значений и получение на выходе предсказания, был ли этот цикл последним для мотора и стоит ли провести ТО (или какой-то осмотр специалистом и тд.)  \n",
    "  \n",
    "  Также можно получить на выходе вероятность того, что этот цикл последний, а не конкретную метку класса. И в зависимости от ситуции и задачи здесь и сейчас решать, что делать с мотором дальше при такой вероятности того, что цикл последний"
   ]
  },
  {
   "cell_type": "markdown",
   "metadata": {},
   "source": [
    "Еще можно увидеть коэффициенты важности каждого показателя в оценке износа мотора: чем выше по модулю коэффициент при показателе, тем важнее показатель. Знак означает прямую или обратную связь. В данном случае положительные коэффициенты означают, что высокие показания датчика сигнализируют об износе. Для показателей с отрицатильными коэффициентами верно, что чем ниже значение, тем ближе мотор к износу"
   ]
  },
  {
   "cell_type": "code",
   "execution_count": 103,
   "metadata": {},
   "outputs": [],
   "source": [
    "coefs = list(zip(regr.coef_[0], df.columns[1:]))"
   ]
  },
  {
   "cell_type": "code",
   "execution_count": 104,
   "metadata": {},
   "outputs": [
    {
     "data": {
      "text/plain": [
       "[(0.30418144490765814, 'cycle'),\n",
       " (2.087504764407612, 'p02'),\n",
       " (-3.267309459689734, 'p03'),\n",
       " (1.770106744183785, 'p04'),\n",
       " (1.9780646470764611, 'p05'),\n",
       " (1.0044918427064473, 'p06'),\n",
       " (0.9095752957357761, 'p08'),\n",
       " (-0.011827117401053987, 'p11'),\n",
       " (-1.4821964585912235, 'p12'),\n",
       " (-2.0963302079300434, 'p13'),\n",
       " (0.016373354297766016, 'p14'),\n",
       " (4.77112954463469, 'p15'),\n",
       " (-0.952275638645346, 'p18'),\n",
       " (1.133801356456664, 'p19'),\n",
       " (-0.13071124316140992, 'p20'),\n",
       " (0.03954420637066938, 's1'),\n",
       " (-0.2510785640919844, 's2')]"
      ]
     },
     "execution_count": 104,
     "metadata": {},
     "output_type": "execute_result"
    }
   ],
   "source": [
    "coefs"
   ]
  },
  {
   "cell_type": "markdown",
   "metadata": {},
   "source": [
    "# График ROC-AUC"
   ]
  },
  {
   "cell_type": "code",
   "execution_count": 37,
   "metadata": {},
   "outputs": [
    {
     "data": {
      "image/png": "[encoded data removed]",
      "text/plain": [
       "<Figure size 432x288 with 1 Axes>"
      ]
     },
     "metadata": {
      "needs_background": "light"
     },
     "output_type": "display_data"
    }
   ],
   "source": [
    "from sklearn.metrics import roc_curve, auc\n",
    "y_predicted_prob = regr.predict_proba(X_test_regr)\n",
    "fpr, tpr, thresholds = roc_curve(y_test, y_predicted_prob[:,1])\n",
    "roc_auc= auc(fpr, tpr)\n",
    "plt.figure()\n",
    "plt.plot(fpr, tpr, color='darkorange', \n",
    "         label='ROC curve (area = %0.2f)' % roc_auc)\n",
    "plt.plot([0, 1], [0, 1], color='navy', linestyle='--')\n",
    "plt.xlim([0.0, 1.0])\n",
    "plt.ylim([0.0, 1.05])\n",
    "plt.xlabel('False Positive Rate')\n",
    "plt.ylabel('True Positive Rate')\n",
    "plt.title('Receiver operating characteristic example')\n",
    "plt.legend(loc=\"lower right\")\n",
    "plt.show()"
   ]
  },
  {
   "cell_type": "markdown",
   "metadata": {},
   "source": [
    "# Random forest"
   ]
  },
  {
   "cell_type": "markdown",
   "metadata": {},
   "source": [
    "Попытка обучить случайный лес с подбором параметров для решения этой же задачи. Возможно, результат будет лучше"
   ]
  },
  {
   "cell_type": "code",
   "execution_count": 42,
   "metadata": {},
   "outputs": [],
   "source": [
    "from sklearn.ensemble import RandomForestClassifier\n",
    "from sklearn.model_selection import GridSearchCV"
   ]
  },
  {
   "cell_type": "code",
   "execution_count": 32,
   "metadata": {},
   "outputs": [
    {
     "data": {
      "text/plain": [
       "GridSearchCV(cv=None, error_score=nan,\n",
       "             estimator=RandomForestClassifier(bootstrap=True, ccp_alpha=0.0,\n",
       "                                              class_weight=None,\n",
       "                                              criterion='gini', max_depth=None,\n",
       "                                              max_features='auto',\n",
       "                                              max_leaf_nodes=None,\n",
       "                                              max_samples=None,\n",
       "                                              min_impurity_decrease=0.0,\n",
       "                                              min_impurity_split=None,\n",
       "                                              min_samples_leaf=1,\n",
       "                                              min_samples_split=2,\n",
       "                                              min_weight_fraction_leaf=0.0,\n",
       "                                              n_estimators=100, n_jobs=None,\n",
       "                                              oob_score=False,\n",
       "                                              random_state=None, verbose=0,\n",
       "                                              warm_start=False),\n",
       "             iid='deprecated', n_jobs=None,\n",
       "             param_grid={'max_depth': range(2, 7),\n",
       "                         'min_samples_split': range(2, 5),\n",
       "                         'n_estimators': [300, 500, 700]},\n",
       "             pre_dispatch='2*n_jobs', refit=True, return_train_score=False,\n",
       "             scoring='recall', verbose=0)"
      ]
     },
     "execution_count": 32,
     "metadata": {},
     "output_type": "execute_result"
    }
   ],
   "source": [
    "parametrs = {'max_depth': range(2, 7),'n_estimators': [300, 500, 700], \n",
    "             'min_samples_split': range(2,5)}\n",
    "clf = RandomForestClassifier()\n",
    "grid_clf = GridSearchCV(clf, param_grid = parametrs, \n",
    "                        scoring = 'recall')\n",
    "grid_clf.fit(X_train, y_train)"
   ]
  },
  {
   "cell_type": "code",
   "execution_count": 33,
   "metadata": {},
   "outputs": [
    {
     "data": {
      "text/plain": [
       "1.0"
      ]
     },
     "execution_count": 33,
     "metadata": {},
     "output_type": "execute_result"
    }
   ],
   "source": [
    "grid_clf.best_score_"
   ]
  },
  {
   "cell_type": "code",
   "execution_count": 44,
   "metadata": {},
   "outputs": [
    {
     "data": {
      "text/plain": [
       "{'max_depth': 2, 'min_samples_split': 2, 'n_estimators': 300}"
      ]
     },
     "execution_count": 44,
     "metadata": {},
     "output_type": "execute_result"
    }
   ],
   "source": [
    "grid_clf.best_params_"
   ]
  },
  {
   "cell_type": "code",
   "execution_count": 34,
   "metadata": {},
   "outputs": [
    {
     "data": {
      "text/plain": [
       "1.0"
      ]
     },
     "execution_count": 34,
     "metadata": {},
     "output_type": "execute_result"
    }
   ],
   "source": [
    "# Recall также равен 1\n",
    "best_clf = grid_clf.best_estimator_\n",
    "y_pred = best_clf.predict(X_test)\n",
    "recall_score(y_test, y_pred)"
   ]
  },
  {
   "cell_type": "code",
   "execution_count": 35,
   "metadata": {},
   "outputs": [
    {
     "data": {
      "text/plain": [
       "0.09090909090909091"
      ]
     },
     "execution_count": 35,
     "metadata": {},
     "output_type": "execute_result"
    }
   ],
   "source": [
    "# А вот Precision ниже, чем у модели лог регрессии\n",
    "precision_score(y_test, y_pred)"
   ]
  },
  {
   "cell_type": "code",
   "execution_count": 42,
   "metadata": {},
   "outputs": [
    {
     "data": {
      "text/plain": [
       "array([[3976,  200],\n",
       "       [   0,   20]])"
      ]
     },
     "execution_count": 42,
     "metadata": {},
     "output_type": "execute_result"
    }
   ],
   "source": [
    "# Видно, что у модели случайного леса чаще случаются ложные срабатывания\n",
    "conf_matrix_tree = confusion_matrix(y_test, y_pred)\n",
    "conf_matrix_tree"
   ]
  },
  {
   "cell_type": "markdown",
   "metadata": {},
   "source": [
    "# Boosting"
   ]
  },
  {
   "cell_type": "markdown",
   "metadata": {},
   "source": [
    "Оптимальной для случайного леса в данной задаче оказалась модель с низкой глубиной деревьев - такие деревья хорошо работают в бустинге. Возможно, стоит проверить эту модель классификатора"
   ]
  },
  {
   "cell_type": "code",
   "execution_count": 38,
   "metadata": {},
   "outputs": [],
   "source": [
    "from xgboost import XGBClassifier"
   ]
  },
  {
   "cell_type": "code",
   "execution_count": 126,
   "metadata": {},
   "outputs": [
    {
     "data": {
      "text/plain": [
       "0.75"
      ]
     },
     "execution_count": 126,
     "metadata": {},
     "output_type": "execute_result"
    }
   ],
   "source": [
    "# Более низкий Recall\n",
    "model = XGBClassifier(max_depth=2, min_child_weight=2, n_estimators=300)\n",
    "model.fit(X_train, y_train)\n",
    "y_preds_xgb = model.predict(X_test)\n",
    "recall_score(y_test, y_preds_xgb)"
   ]
  },
  {
   "cell_type": "code",
   "execution_count": 127,
   "metadata": {},
   "outputs": [
    {
     "data": {
      "text/plain": [
       "0.2459016393442623"
      ]
     },
     "execution_count": 127,
     "metadata": {},
     "output_type": "execute_result"
    }
   ],
   "source": [
    "# Зато Precision выше\n",
    "precision_score(y_test, y_preds_xgb)"
   ]
  },
  {
   "cell_type": "markdown",
   "metadata": {},
   "source": [
    "Думаю, проблема бустинга в данном случае в том, что он переобучился на тренировочной выборке и примерах последних циклов в ней и далее в тестовой выборке искал более похожие варианты на те, что были в тренировочном сэте"
   ]
  },
  {
   "cell_type": "code",
   "execution_count": 128,
   "metadata": {},
   "outputs": [
    {
     "data": {
      "text/plain": [
       "array([[4130,   46],\n",
       "       [   5,   15]], dtype=int64)"
      ]
     },
     "execution_count": 128,
     "metadata": {},
     "output_type": "execute_result"
    }
   ],
   "source": [
    "conf_matrix_xgb = confusion_matrix(y_test, y_preds_xgb)\n",
    "conf_matrix_xgb"
   ]
  },
  {
   "cell_type": "markdown",
   "metadata": {},
   "source": [
    "Модель реже срабатывает ложно, однако находит не все последние циклы. Возможно, стоит сдвинуть вероятность, после которой объект относится к классу 1"
   ]
  },
  {
   "cell_type": "code",
   "execution_count": 159,
   "metadata": {},
   "outputs": [
    {
     "data": {
      "text/plain": [
       "0.85"
      ]
     },
     "execution_count": 159,
     "metadata": {},
     "output_type": "execute_result"
    }
   ],
   "source": [
    "prob_xgb = model.predict_proba(X_test)\n",
    "y_preds_xgb2 = np.where(prob_xgb[:, 1] > 0.1, 1, 0)\n",
    "recall_score(y_test, y_preds_xgb2)"
   ]
  },
  {
   "cell_type": "code",
   "execution_count": 160,
   "metadata": {},
   "outputs": [
    {
     "data": {
      "text/plain": [
       "0.16346153846153846"
      ]
     },
     "execution_count": 160,
     "metadata": {},
     "output_type": "execute_result"
    }
   ],
   "source": [
    "precision_score(y_test, y_preds_xgb2)"
   ]
  },
  {
   "cell_type": "code",
   "execution_count": 162,
   "metadata": {},
   "outputs": [
    {
     "data": {
      "text/plain": [
       "array([[4089,   87],\n",
       "       [   3,   17]], dtype=int64)"
      ]
     },
     "execution_count": 162,
     "metadata": {},
     "output_type": "execute_result"
    }
   ],
   "source": [
    "# Даже при очень низком пороге не все последние циклы удается найти, при этом Precision становится ниже, чем у лог регрессии\n",
    "conf_matrix_xgb2 = confusion_matrix(y_test, y_preds_xgb2)\n",
    "conf_matrix_xgb2"
   ]
  },
  {
   "cell_type": "code",
   "execution_count": null,
   "metadata": {},
   "outputs": [],
   "source": []
  },
  {
   "cell_type": "markdown",
   "metadata": {},
   "source": [
    "Первая построенная модель логистической регрессии дала лучшие результаты на этих данных, и я бы воспользовался ей для решения этой задачи"
   ]
  },
  {
   "cell_type": "code",
   "execution_count": null,
   "metadata": {},
   "outputs": [],
   "source": []
  },
  {
   "cell_type": "markdown",
   "metadata": {},
   "source": [
    "Альтернативной постановкой задачи здесь может являться Survival Analysis  \n",
    "Вот, например, вариант реализации библиотеки для него на основе случайного леса из scikit-learn  \n",
    "https://github.com/sebp/scikit-survival"
   ]
  }
 ],
 "metadata": {
  "kernelspec": {
   "display_name": "Python 3",
   "language": "python",
   "name": "python3"
  },
  "language_info": {
   "codemirror_mode": {
    "name": "ipython",
    "version": 3
   },
   "file_extension": ".py",
   "mimetype": "text/x-python",
   "name": "python",
   "nbconvert_exporter": "python",
   "pygments_lexer": "ipython3",
   "version": "3.7.3"
  }
 },
 "nbformat": 4,
 "nbformat_minor": 2
}
